{
 "cells": [
  {
   "cell_type": "markdown",
   "metadata": {},
   "source": [
    "# Best Locations to Site Shopping Malls in Lagos & Venues Data Analysis of Lagos Neighbourhoods\n",
    "\n",
    "### Applied Data Science Capstone by IBM/Coursera\n",
    "\n",
    "\n",
    "\n"
   ]
  },
  {
   "cell_type": "markdown",
   "metadata": {},
   "source": [
    "## Introduction\n",
    "\n",
    "This blog post is part of the final capstone project for Coursera’s IBM Data Science Professional Certification. Through this article, I will be sharing the methods and techniques to solve a business problem with the help of data science."
   ]
  },
  {
   "cell_type": "markdown",
   "metadata": {},
   "source": [
    "## 1.0 Business Problem <a name=\"business\"></a>\n",
    "\n",
    "Lagos is the most populous city in Nigeria and the African continent. Being an economic hub and major financial centre for all of Africa, Lagos has the fourth-highest GDP in Africa. Over 50% of Nigeria's industrial capacity is located in Lagos, with a variety of manufactured goods being produced in the city, including electronic equipment, machinery, foodstuffs, beverages, and chemicals.\n",
    "\n",
    "The retail sector in Nigeria is based on the latent potential of Nigeria’s population, consequently, placing Lagos as the hub of Nigeria's retail market. Therefore, firms hoping to cater to that block of consumers in Lagos should explore innovative ways to reduce market friction and improve the shopping experience for the buyers.\n",
    "\n",
    "Shopping malls can provide the best shopping experience and reduce the pressure on traditional markets which mostly lead to congestion of roads and public spaces. Moreso, shopping malls can enable social gatherings, entertainment, performances, product launches, promotions, and festivals. \n",
    "\n",
    "By knowing which location is less condensed with shopping malls, investors and firms can easily make data-driven decisions when expanding their businesses within the state. \n",
    "\n",
    "In this project, I tried to;\n",
    "\n",
    " - **Find an optimal location for a Shopping Mall in Lagos. Since there are a number  of Shopping Malls in Lagos, I tried to detect locations that are already crowded with Shopping malls, then spot locations that are less condensed with Shopping malls.**\n",
    " - **Explore business opportunities across Lagos Neighbourhoods by identifying top venues in Lagos and the business activities within.**\n",
    " \n",
    "This project is particularly useful to property developers and investors looking to open or invest in new shopping malls in the financial capital of Lagos, Nigeria. This project is also viable as it has the potential to help the traffic congestion in the city.\n",
    "\n",
    "\n"
   ]
  },
  {
   "cell_type": "markdown",
   "metadata": {},
   "source": [
    "## 2.0 Data Collection <a name=\"data\"></a>\n",
    "\n",
    "To solve the problem, we will require the below-mentioned data:\n",
    "\n",
    "1. A list of LGA and neighborhoods in Lagos via Wikipedia defines the scope of this project which is confined to the city of Lagos.\n",
    "2. The coordinate of Lagos state to be obtained using Google Maps API reverse geocoding\n",
    "3. Python Geocoder package/Google map for latitude and longitude coordinates of the neighborhoods in order to plot the map and also to get the venue data.\n",
    "4. Foursquare API to get the venue data for the neighborhoods.\n",
    "5. Python Folium Package for Map Visualisation.\n",
    "6. Matplotlib for graphical visualization\n",
    "\n",
    "Moreso, I used the k-means clustering algorithm to create emerging clusters for the neighborhoods with top venues."
   ]
  }
 ],
 "metadata": {
  "kernelspec": {
   "display_name": "Python 3",
   "language": "python",
   "name": "python3"
  },
  "language_info": {
   "codemirror_mode": {
    "name": "ipython",
    "version": 3
   },
   "file_extension": ".py",
   "mimetype": "text/x-python",
   "name": "python",
   "nbconvert_exporter": "python",
   "pygments_lexer": "ipython3",
   "version": "3.8.5"
  }
 },
 "nbformat": 4,
 "nbformat_minor": 4
}
